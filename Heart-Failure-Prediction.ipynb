{
 "cells": [
  {
   "cell_type": "markdown",
   "metadata": {
    "id": "GhI-X-qvwAN-"
   },
   "source": [
    "# Heart Failure Prediction"
   ]
  },
  {
   "cell_type": "markdown",
   "metadata": {
    "id": "FVcgq6HwwLQm"
   },
   "source": [
    "## Importing Libraries"
   ]
  },
  {
   "cell_type": "code",
   "execution_count": 1,
   "metadata": {
    "executionInfo": {
     "elapsed": 514,
     "status": "ok",
     "timestamp": 1631013496738,
     "user": {
      "displayName": "Varun Sharma",
      "photoUrl": "https://lh3.googleusercontent.com/a-/AOh14Gg1hxWmmqH4umslUWGbzTlmprKziTUVDl4DHVjZUw=s64",
      "userId": "03897717850476375807"
     },
     "user_tz": -330
    },
    "id": "Ws5V27qpwZI2"
   },
   "outputs": [],
   "source": [
    "import numpy as np\n",
    "import matplotlib.pyplot as plt\n",
    "import pandas as pd"
   ]
  },
  {
   "cell_type": "markdown",
   "metadata": {
    "id": "M4O2fe7zwqSG"
   },
   "source": [
    "## Importing Dataset"
   ]
  },
  {
   "cell_type": "code",
   "execution_count": 2,
   "metadata": {
    "executionInfo": {
     "elapsed": 6,
     "status": "ok",
     "timestamp": 1631013497113,
     "user": {
      "displayName": "Varun Sharma",
      "photoUrl": "https://lh3.googleusercontent.com/a-/AOh14Gg1hxWmmqH4umslUWGbzTlmprKziTUVDl4DHVjZUw=s64",
      "userId": "03897717850476375807"
     },
     "user_tz": -330
    },
    "id": "q-dnuLJMwyjN"
   },
   "outputs": [],
   "source": [
    "dataset = pd.read_csv('heart_failure_clinical_records_dataset.csv')\n",
    "X = dataset.iloc[:, :-1].values\n",
    "y = dataset.iloc[: , -1].values"
   ]
  },
  {
   "cell_type": "code",
   "execution_count": 3,
   "metadata": {
    "colab": {
     "base_uri": "https://localhost:8080/",
     "height": 0
    },
    "executionInfo": {
     "elapsed": 6,
     "status": "ok",
     "timestamp": 1631013497114,
     "user": {
      "displayName": "Varun Sharma",
      "photoUrl": "https://lh3.googleusercontent.com/a-/AOh14Gg1hxWmmqH4umslUWGbzTlmprKziTUVDl4DHVjZUw=s64",
      "userId": "03897717850476375807"
     },
     "user_tz": -330
    },
    "id": "QV4krbqG2GTw",
    "outputId": "313c602b-1437-4906-c07f-6037cd30f609"
   },
   "outputs": [
    {
     "data": {
      "text/html": [
       "<div>\n",
       "<style scoped>\n",
       "    .dataframe tbody tr th:only-of-type {\n",
       "        vertical-align: middle;\n",
       "    }\n",
       "\n",
       "    .dataframe tbody tr th {\n",
       "        vertical-align: top;\n",
       "    }\n",
       "\n",
       "    .dataframe thead th {\n",
       "        text-align: right;\n",
       "    }\n",
       "</style>\n",
       "<table border=\"1\" class=\"dataframe\">\n",
       "  <thead>\n",
       "    <tr style=\"text-align: right;\">\n",
       "      <th></th>\n",
       "      <th>age</th>\n",
       "      <th>anaemia</th>\n",
       "      <th>creatinine_phosphokinase</th>\n",
       "      <th>diabetes</th>\n",
       "      <th>ejection_fraction</th>\n",
       "      <th>high_blood_pressure</th>\n",
       "      <th>platelets</th>\n",
       "      <th>serum_creatinine</th>\n",
       "      <th>serum_sodium</th>\n",
       "      <th>sex</th>\n",
       "      <th>smoking</th>\n",
       "      <th>time</th>\n",
       "      <th>DEATH_EVENT</th>\n",
       "    </tr>\n",
       "  </thead>\n",
       "  <tbody>\n",
       "    <tr>\n",
       "      <th>0</th>\n",
       "      <td>75.0</td>\n",
       "      <td>0</td>\n",
       "      <td>582</td>\n",
       "      <td>0</td>\n",
       "      <td>20</td>\n",
       "      <td>1</td>\n",
       "      <td>265000.00</td>\n",
       "      <td>1.9</td>\n",
       "      <td>130</td>\n",
       "      <td>1</td>\n",
       "      <td>0</td>\n",
       "      <td>4</td>\n",
       "      <td>1</td>\n",
       "    </tr>\n",
       "    <tr>\n",
       "      <th>1</th>\n",
       "      <td>55.0</td>\n",
       "      <td>0</td>\n",
       "      <td>7861</td>\n",
       "      <td>0</td>\n",
       "      <td>38</td>\n",
       "      <td>0</td>\n",
       "      <td>263358.03</td>\n",
       "      <td>1.1</td>\n",
       "      <td>136</td>\n",
       "      <td>1</td>\n",
       "      <td>0</td>\n",
       "      <td>6</td>\n",
       "      <td>1</td>\n",
       "    </tr>\n",
       "    <tr>\n",
       "      <th>2</th>\n",
       "      <td>65.0</td>\n",
       "      <td>0</td>\n",
       "      <td>146</td>\n",
       "      <td>0</td>\n",
       "      <td>20</td>\n",
       "      <td>0</td>\n",
       "      <td>162000.00</td>\n",
       "      <td>1.3</td>\n",
       "      <td>129</td>\n",
       "      <td>1</td>\n",
       "      <td>1</td>\n",
       "      <td>7</td>\n",
       "      <td>1</td>\n",
       "    </tr>\n",
       "    <tr>\n",
       "      <th>3</th>\n",
       "      <td>50.0</td>\n",
       "      <td>1</td>\n",
       "      <td>111</td>\n",
       "      <td>0</td>\n",
       "      <td>20</td>\n",
       "      <td>0</td>\n",
       "      <td>210000.00</td>\n",
       "      <td>1.9</td>\n",
       "      <td>137</td>\n",
       "      <td>1</td>\n",
       "      <td>0</td>\n",
       "      <td>7</td>\n",
       "      <td>1</td>\n",
       "    </tr>\n",
       "    <tr>\n",
       "      <th>4</th>\n",
       "      <td>65.0</td>\n",
       "      <td>1</td>\n",
       "      <td>160</td>\n",
       "      <td>1</td>\n",
       "      <td>20</td>\n",
       "      <td>0</td>\n",
       "      <td>327000.00</td>\n",
       "      <td>2.7</td>\n",
       "      <td>116</td>\n",
       "      <td>0</td>\n",
       "      <td>0</td>\n",
       "      <td>8</td>\n",
       "      <td>1</td>\n",
       "    </tr>\n",
       "  </tbody>\n",
       "</table>\n",
       "</div>"
      ],
      "text/plain": [
       "    age  anaemia  creatinine_phosphokinase  diabetes  ejection_fraction  \\\n",
       "0  75.0        0                       582         0                 20   \n",
       "1  55.0        0                      7861         0                 38   \n",
       "2  65.0        0                       146         0                 20   \n",
       "3  50.0        1                       111         0                 20   \n",
       "4  65.0        1                       160         1                 20   \n",
       "\n",
       "   high_blood_pressure  platelets  serum_creatinine  serum_sodium  sex  \\\n",
       "0                    1  265000.00               1.9           130    1   \n",
       "1                    0  263358.03               1.1           136    1   \n",
       "2                    0  162000.00               1.3           129    1   \n",
       "3                    0  210000.00               1.9           137    1   \n",
       "4                    0  327000.00               2.7           116    0   \n",
       "\n",
       "   smoking  time  DEATH_EVENT  \n",
       "0        0     4            1  \n",
       "1        0     6            1  \n",
       "2        1     7            1  \n",
       "3        0     7            1  \n",
       "4        0     8            1  "
      ]
     },
     "execution_count": 3,
     "metadata": {},
     "output_type": "execute_result"
    }
   ],
   "source": [
    "dataset.head()"
   ]
  },
  {
   "cell_type": "markdown",
   "metadata": {
    "id": "O9D7wHkhyZkv"
   },
   "source": [
    "## Splitting the dataset into the Training set and Test set"
   ]
  },
  {
   "cell_type": "code",
   "execution_count": 4,
   "metadata": {
    "executionInfo": {
     "elapsed": 5,
     "status": "ok",
     "timestamp": 1631013497114,
     "user": {
      "displayName": "Varun Sharma",
      "photoUrl": "https://lh3.googleusercontent.com/a-/AOh14Gg1hxWmmqH4umslUWGbzTlmprKziTUVDl4DHVjZUw=s64",
      "userId": "03897717850476375807"
     },
     "user_tz": -330
    },
    "id": "r4BshfQcygFs"
   },
   "outputs": [],
   "source": [
    "from sklearn.model_selection import train_test_split\n",
    "X_train, X_test, y_train, y_test = train_test_split(X, y, test_size = 0.25, random_state = 0)"
   ]
  },
  {
   "cell_type": "markdown",
   "metadata": {
    "id": "C-_yzxnSzjBW"
   },
   "source": [
    "## Feature Scaling"
   ]
  },
  {
   "cell_type": "code",
   "execution_count": 5,
   "metadata": {
    "executionInfo": {
     "elapsed": 6,
     "status": "ok",
     "timestamp": 1631013497115,
     "user": {
      "displayName": "Varun Sharma",
      "photoUrl": "https://lh3.googleusercontent.com/a-/AOh14Gg1hxWmmqH4umslUWGbzTlmprKziTUVDl4DHVjZUw=s64",
      "userId": "03897717850476375807"
     },
     "user_tz": -330
    },
    "id": "RsiI608SzqHE"
   },
   "outputs": [],
   "source": [
    "from sklearn.preprocessing import StandardScaler\n",
    "sc = StandardScaler()\n",
    "X_train = sc.fit_transform(X_train)\n",
    "X_test = sc.transform(X_test)"
   ]
  },
  {
   "cell_type": "markdown",
   "metadata": {
    "id": "F0V7wLpF4MAx"
   },
   "source": [
    "## Training Naive Bayes model on Training Set"
   ]
  },
  {
   "cell_type": "code",
   "execution_count": 6,
   "metadata": {
    "colab": {
     "base_uri": "https://localhost:8080/"
    },
    "executionInfo": {
     "elapsed": 6,
     "status": "ok",
     "timestamp": 1631013497115,
     "user": {
      "displayName": "Varun Sharma",
      "photoUrl": "https://lh3.googleusercontent.com/a-/AOh14Gg1hxWmmqH4umslUWGbzTlmprKziTUVDl4DHVjZUw=s64",
      "userId": "03897717850476375807"
     },
     "user_tz": -330
    },
    "id": "f4uwkoSw4PoB",
    "outputId": "c90b79ef-ca7f-4b6b-f842-dc0b3c53716b"
   },
   "outputs": [
    {
     "data": {
      "text/plain": [
       "GaussianNB()"
      ]
     },
     "execution_count": 6,
     "metadata": {},
     "output_type": "execute_result"
    }
   ],
   "source": [
    "from sklearn.naive_bayes import GaussianNB\n",
    "classifier = GaussianNB()\n",
    "classifier.fit(X_train, y_train)"
   ]
  },
  {
   "cell_type": "markdown",
   "metadata": {
    "id": "_UtPDG804P0R"
   },
   "source": [
    "## Confusion matrix and Model Accuracy"
   ]
  },
  {
   "cell_type": "code",
   "execution_count": 7,
   "metadata": {
    "colab": {
     "base_uri": "https://localhost:8080/",
     "height": 0
    },
    "executionInfo": {
     "elapsed": 831,
     "status": "ok",
     "timestamp": 1631013497941,
     "user": {
      "displayName": "Varun Sharma",
      "photoUrl": "https://lh3.googleusercontent.com/a-/AOh14Gg1hxWmmqH4umslUWGbzTlmprKziTUVDl4DHVjZUw=s64",
      "userId": "03897717850476375807"
     },
     "user_tz": -330
    },
    "id": "KOA9bMbr4RN5",
    "outputId": "9e83e979-b2f3-4abd-d318-051dc82ea0f4"
   },
   "outputs": [
    {
     "name": "stdout",
     "output_type": "stream",
     "text": [
      "Naive Bayes model Accuracy:  66.67%\n"
     ]
    },
    {
     "data": {
      "text/plain": [
       "<AxesSubplot:>"
      ]
     },
     "execution_count": 7,
     "metadata": {},
     "output_type": "execute_result"
    },
    {
     "data": {
      "image/png": "[encoded data removed]",
      "text/plain": [
       "<Figure size 432x288 with 2 Axes>"
      ]
     },
     "metadata": {
      "needs_background": "light"
     },
     "output_type": "display_data"
    }
   ],
   "source": [
    "from sklearn.metrics import confusion_matrix, accuracy_score\n",
    "import seaborn as sns\n",
    "y_pred = classifier.predict(X_test)\n",
    "cm = confusion_matrix(y_test, y_pred)\n",
    "score1 = accuracy_score(y_test, y_pred)\n",
    "print('Naive Bayes model Accuracy: ','{:.2f}%'.format(100*score1))\n",
    "sns.heatmap(cm, annot=True)"
   ]
  },
  {
   "cell_type": "markdown",
   "metadata": {
    "id": "acjThhF95d3a"
   },
   "source": [
    "## Training K-Nearest Neighbors model on Training Set"
   ]
  },
  {
   "cell_type": "code",
   "execution_count": 8,
   "metadata": {
    "colab": {
     "base_uri": "https://localhost:8080/"
    },
    "executionInfo": {
     "elapsed": 9,
     "status": "ok",
     "timestamp": 1631013497942,
     "user": {
      "displayName": "Varun Sharma",
      "photoUrl": "https://lh3.googleusercontent.com/a-/AOh14Gg1hxWmmqH4umslUWGbzTlmprKziTUVDl4DHVjZUw=s64",
      "userId": "03897717850476375807"
     },
     "user_tz": -330
    },
    "id": "Pdy2BaOP5f0w",
    "outputId": "01903b99-999f-48ad-efa3-259708b1348d"
   },
   "outputs": [
    {
     "data": {
      "text/plain": [
       "KNeighborsClassifier()"
      ]
     },
     "execution_count": 8,
     "metadata": {},
     "output_type": "execute_result"
    }
   ],
   "source": [
    "from sklearn.neighbors import KNeighborsClassifier\n",
    "classifier = KNeighborsClassifier(n_neighbors = 5, metric = 'minkowski', p = 2)\n",
    "classifier.fit(X_train, y_train)"
   ]
  },
  {
   "cell_type": "markdown",
   "metadata": {
    "id": "4T9M1VTp5f9p"
   },
   "source": [
    "## Confusion matrix and Model Accuracy"
   ]
  },
  {
   "cell_type": "code",
   "execution_count": 9,
   "metadata": {
    "colab": {
     "base_uri": "https://localhost:8080/",
     "height": 0
    },
    "executionInfo": {
     "elapsed": 8,
     "status": "ok",
     "timestamp": 1631013497942,
     "user": {
      "displayName": "Varun Sharma",
      "photoUrl": "https://lh3.googleusercontent.com/a-/AOh14Gg1hxWmmqH4umslUWGbzTlmprKziTUVDl4DHVjZUw=s64",
      "userId": "03897717850476375807"
     },
     "user_tz": -330
    },
    "id": "QuWRh_i75hKB",
    "outputId": "85ea0a74-5424-46b3-fcf2-a20dcffc76db"
   },
   "outputs": [
    {
     "name": "stdout",
     "output_type": "stream",
     "text": [
      "K-Nearest neighbors model Accuracy:  73.33%\n"
     ]
    },
    {
     "data": {
      "text/plain": [
       "<AxesSubplot:>"
      ]
     },
     "execution_count": 9,
     "metadata": {},
     "output_type": "execute_result"
    },
    {
     "data": {
      "image/png": "[encoded data removed]",
      "text/plain": [
       "<Figure size 432x288 with 2 Axes>"
      ]
     },
     "metadata": {
      "needs_background": "light"
     },
     "output_type": "display_data"
    }
   ],
   "source": [
    "from sklearn.metrics import confusion_matrix, accuracy_score\n",
    "y_pred = classifier.predict(X_test)\n",
    "cm = confusion_matrix(y_test, y_pred)\n",
    "score2 = accuracy_score(y_test,y_pred)\n",
    "print('K-Nearest neighbors model Accuracy: ','{:.2f}%'.format(100*score2))\n",
    "sns.heatmap(cm, annot=True)"
   ]
  },
  {
   "cell_type": "markdown",
   "metadata": {
    "id": "DaLUBmvfz6eP"
   },
   "source": [
    "## Training Logistic Regression model on Training Set"
   ]
  },
  {
   "cell_type": "code",
   "execution_count": 10,
   "metadata": {
    "colab": {
     "base_uri": "https://localhost:8080/"
    },
    "executionInfo": {
     "elapsed": 6,
     "status": "ok",
     "timestamp": 1631013497942,
     "user": {
      "displayName": "Varun Sharma",
      "photoUrl": "https://lh3.googleusercontent.com/a-/AOh14Gg1hxWmmqH4umslUWGbzTlmprKziTUVDl4DHVjZUw=s64",
      "userId": "03897717850476375807"
     },
     "user_tz": -330
    },
    "id": "iZLvjUVU0OQw",
    "outputId": "4184b983-6863-4605-ced1-376fec1c2a70"
   },
   "outputs": [
    {
     "data": {
      "text/plain": [
       "LogisticRegression(random_state=0)"
      ]
     },
     "execution_count": 10,
     "metadata": {},
     "output_type": "execute_result"
    }
   ],
   "source": [
    "from sklearn.linear_model import LogisticRegression\n",
    "classifier = LogisticRegression(random_state = 0)\n",
    "classifier.fit(X_train, y_train)"
   ]
  },
  {
   "cell_type": "markdown",
   "metadata": {
    "id": "j5sf8IG10V6g"
   },
   "source": [
    "## Confusion matrix and Model Accuracy"
   ]
  },
  {
   "cell_type": "code",
   "execution_count": 11,
   "metadata": {
    "colab": {
     "base_uri": "https://localhost:8080/",
     "height": 0
    },
    "executionInfo": {
     "elapsed": 1007,
     "status": "ok",
     "timestamp": 1631013498943,
     "user": {
      "displayName": "Varun Sharma",
      "photoUrl": "https://lh3.googleusercontent.com/a-/AOh14Gg1hxWmmqH4umslUWGbzTlmprKziTUVDl4DHVjZUw=s64",
      "userId": "03897717850476375807"
     },
     "user_tz": -330
    },
    "id": "oujOYgen0dBP",
    "outputId": "6f169048-92d4-4c40-cf5f-58c42e6c7d2a"
   },
   "outputs": [
    {
     "name": "stdout",
     "output_type": "stream",
     "text": [
      "Logistic Regression model Accuracy:  77.33%\n"
     ]
    },
    {
     "data": {
      "text/plain": [
       "<AxesSubplot:>"
      ]
     },
     "execution_count": 11,
     "metadata": {},
     "output_type": "execute_result"
    },
    {
     "data": {
      "image/png": "[encoded data removed]",
      "text/plain": [
       "<Figure size 432x288 with 2 Axes>"
      ]
     },
     "metadata": {
      "needs_background": "light"
     },
     "output_type": "display_data"
    }
   ],
   "source": [
    "from sklearn.metrics import confusion_matrix, accuracy_score\n",
    "import seaborn as sns\n",
    "y_pred = classifier.predict(X_test)\n",
    "cm = confusion_matrix(y_test, y_pred)\n",
    "score3 = accuracy_score(y_test, y_pred)\n",
    "print('Logistic Regression model Accuracy: ','{:.2f}%'.format(100*score3))\n",
    "sns.heatmap(cm, annot=True)"
   ]
  },
  {
   "cell_type": "markdown",
   "metadata": {
    "id": "HOGKL6uc17r4"
   },
   "source": [
    "## Training Support Vector machine model on Training Set"
   ]
  },
  {
   "cell_type": "code",
   "execution_count": 12,
   "metadata": {
    "colab": {
     "base_uri": "https://localhost:8080/"
    },
    "executionInfo": {
     "elapsed": 13,
     "status": "ok",
     "timestamp": 1631013498943,
     "user": {
      "displayName": "Varun Sharma",
      "photoUrl": "https://lh3.googleusercontent.com/a-/AOh14Gg1hxWmmqH4umslUWGbzTlmprKziTUVDl4DHVjZUw=s64",
      "userId": "03897717850476375807"
     },
     "user_tz": -330
    },
    "id": "ugbOUP1r2XOo",
    "outputId": "525a1b11-065e-4f09-cdbd-b5dcc50030b2"
   },
   "outputs": [
    {
     "data": {
      "text/plain": [
       "SVC(kernel='linear', random_state=0)"
      ]
     },
     "execution_count": 12,
     "metadata": {},
     "output_type": "execute_result"
    }
   ],
   "source": [
    "from sklearn.svm import SVC\n",
    "classifier = SVC(kernel = 'linear', random_state = 0)\n",
    "classifier.fit(X_train, y_train)"
   ]
  },
  {
   "cell_type": "markdown",
   "metadata": {
    "id": "h9Fn-Jnl2Xk4"
   },
   "source": [
    "## Confusion matrix and Model Accuracy"
   ]
  },
  {
   "cell_type": "code",
   "execution_count": 13,
   "metadata": {
    "colab": {
     "base_uri": "https://localhost:8080/",
     "height": 0
    },
    "executionInfo": {
     "elapsed": 13,
     "status": "ok",
     "timestamp": 1631013498944,
     "user": {
      "displayName": "Varun Sharma",
      "photoUrl": "https://lh3.googleusercontent.com/a-/AOh14Gg1hxWmmqH4umslUWGbzTlmprKziTUVDl4DHVjZUw=s64",
      "userId": "03897717850476375807"
     },
     "user_tz": -330
    },
    "id": "xxDideK72c54",
    "outputId": "1ee8d219-de15-46c8-a1ed-9dea346f4545"
   },
   "outputs": [
    {
     "name": "stdout",
     "output_type": "stream",
     "text": [
      "Logistic Support Vector machine model Accuracy:  78.67%\n"
     ]
    },
    {
     "data": {
      "text/plain": [
       "<AxesSubplot:>"
      ]
     },
     "execution_count": 13,
     "metadata": {},
     "output_type": "execute_result"
    },
    {
     "data": {
      "image/png": "[encoded data removed]",
      "text/plain": [
       "<Figure size 432x288 with 2 Axes>"
      ]
     },
     "metadata": {
      "needs_background": "light"
     },
     "output_type": "display_data"
    }
   ],
   "source": [
    "from sklearn.metrics import confusion_matrix, accuracy_score\n",
    "y_pred = classifier.predict(X_test)\n",
    "cm = confusion_matrix(y_test, y_pred)\n",
    "score4 = accuracy_score(y_test, y_pred)\n",
    "print('Logistic Support Vector machine model Accuracy: ','{:.2f}%'.format(100*score4))\n",
    "sns.heatmap(cm, annot=True)"
   ]
  },
  {
   "cell_type": "markdown",
   "metadata": {
    "id": "DQKvX-WC2d_w"
   },
   "source": [
    "## Training Kernel SVM model on Training Set"
   ]
  },
  {
   "cell_type": "code",
   "execution_count": 14,
   "metadata": {
    "colab": {
     "base_uri": "https://localhost:8080/"
    },
    "executionInfo": {
     "elapsed": 12,
     "status": "ok",
     "timestamp": 1631013498944,
     "user": {
      "displayName": "Varun Sharma",
      "photoUrl": "https://lh3.googleusercontent.com/a-/AOh14Gg1hxWmmqH4umslUWGbzTlmprKziTUVDl4DHVjZUw=s64",
      "userId": "03897717850476375807"
     },
     "user_tz": -330
    },
    "id": "xO0ip4BR2f-A",
    "outputId": "173ef153-c605-494b-bc05-e86a71efa7b7"
   },
   "outputs": [
    {
     "data": {
      "text/plain": [
       "SVC(random_state=0)"
      ]
     },
     "execution_count": 14,
     "metadata": {},
     "output_type": "execute_result"
    }
   ],
   "source": [
    "from sklearn.svm import SVC\n",
    "classifier = SVC(kernel = 'rbf', random_state = 0)\n",
    "classifier.fit(X_train, y_train)"
   ]
  },
  {
   "cell_type": "markdown",
   "metadata": {
    "id": "WhyZR3uq2gKI"
   },
   "source": [
    "## Confusion matrix and Model Accuracy"
   ]
  },
  {
   "cell_type": "code",
   "execution_count": 15,
   "metadata": {
    "colab": {
     "base_uri": "https://localhost:8080/",
     "height": 0
    },
    "executionInfo": {
     "elapsed": 11,
     "status": "ok",
     "timestamp": 1631013498944,
     "user": {
      "displayName": "Varun Sharma",
      "photoUrl": "https://lh3.googleusercontent.com/a-/AOh14Gg1hxWmmqH4umslUWGbzTlmprKziTUVDl4DHVjZUw=s64",
      "userId": "03897717850476375807"
     },
     "user_tz": -330
    },
    "id": "ZucFWlAe2i9Y",
    "outputId": "f87194b9-6b88-4bb4-ad0a-00e0ce59c4a0"
   },
   "outputs": [
    {
     "name": "stdout",
     "output_type": "stream",
     "text": [
      "Kernel SVM model Accuracy:  81.33%\n"
     ]
    },
    {
     "data": {
      "text/plain": [
       "<AxesSubplot:>"
      ]
     },
     "execution_count": 15,
     "metadata": {},
     "output_type": "execute_result"
    },
    {
     "data": {
      "image/png": "[encoded data removed]",
      "text/plain": [
       "<Figure size 432x288 with 2 Axes>"
      ]
     },
     "metadata": {
      "needs_background": "light"
     },
     "output_type": "display_data"
    }
   ],
   "source": [
    "from sklearn.metrics import confusion_matrix, accuracy_score\n",
    "y_pred = classifier.predict(X_test)\n",
    "cm = confusion_matrix(y_test, y_pred)\n",
    "score5 = accuracy_score(y_test, y_pred)\n",
    "print('Kernel SVM model Accuracy: ','{:.2f}%'.format(100*score5))\n",
    "sns.heatmap(cm, annot=True)"
   ]
  },
  {
   "cell_type": "markdown",
   "metadata": {
    "id": "Xq8e82xz2jOo"
   },
   "source": [
    "## Training Decision tree model on Training Set"
   ]
  },
  {
   "cell_type": "code",
   "execution_count": 16,
   "metadata": {
    "colab": {
     "base_uri": "https://localhost:8080/"
    },
    "executionInfo": {
     "elapsed": 11,
     "status": "ok",
     "timestamp": 1631013498945,
     "user": {
      "displayName": "Varun Sharma",
      "photoUrl": "https://lh3.googleusercontent.com/a-/AOh14Gg1hxWmmqH4umslUWGbzTlmprKziTUVDl4DHVjZUw=s64",
      "userId": "03897717850476375807"
     },
     "user_tz": -330
    },
    "id": "2VUghNQv2mcw",
    "outputId": "63329acd-9f5e-4064-cb03-0d6f186aa899"
   },
   "outputs": [
    {
     "data": {
      "text/plain": [
       "DecisionTreeClassifier(criterion='entropy', random_state=0)"
      ]
     },
     "execution_count": 16,
     "metadata": {},
     "output_type": "execute_result"
    }
   ],
   "source": [
    "from sklearn.tree import DecisionTreeClassifier\n",
    "classifier = DecisionTreeClassifier(criterion = 'entropy', random_state = 0)\n",
    "classifier.fit(X_train, y_train)"
   ]
  },
  {
   "cell_type": "markdown",
   "metadata": {
    "id": "D902ynoi2mtg"
   },
   "source": [
    "## Confusion matrix and Model Accuracy"
   ]
  },
  {
   "cell_type": "code",
   "execution_count": 17,
   "metadata": {
    "colab": {
     "base_uri": "https://localhost:8080/",
     "height": 0
    },
    "executionInfo": {
     "elapsed": 494,
     "status": "ok",
     "timestamp": 1631013499428,
     "user": {
      "displayName": "Varun Sharma",
      "photoUrl": "https://lh3.googleusercontent.com/a-/AOh14Gg1hxWmmqH4umslUWGbzTlmprKziTUVDl4DHVjZUw=s64",
      "userId": "03897717850476375807"
     },
     "user_tz": -330
    },
    "id": "M5p3vUBk2o5q",
    "outputId": "c2c9e441-7e6b-46b3-b913-0ad535f30ed6"
   },
   "outputs": [
    {
     "name": "stdout",
     "output_type": "stream",
     "text": [
      "Decision tree model Accuracy:  81.33%\n"
     ]
    },
    {
     "data": {
      "text/plain": [
       "<AxesSubplot:>"
      ]
     },
     "execution_count": 17,
     "metadata": {},
     "output_type": "execute_result"
    },
    {
     "data": {
      "image/png": "[encoded data removed]",
      "text/plain": [
       "<Figure size 432x288 with 2 Axes>"
      ]
     },
     "metadata": {
      "needs_background": "light"
     },
     "output_type": "display_data"
    }
   ],
   "source": [
    "from sklearn.metrics import confusion_matrix, accuracy_score\n",
    "y_pred = classifier.predict(X_test)\n",
    "cm = confusion_matrix(y_test, y_pred)\n",
    "score6 = accuracy_score(y_test, y_pred)\n",
    "print('Decision tree model Accuracy: ','{:.2f}%'.format(100*score6))\n",
    "sns.heatmap(cm, annot=True)"
   ]
  },
  {
   "cell_type": "markdown",
   "metadata": {
    "id": "UeKns0452qyJ"
   },
   "source": [
    "## Training Random forest classification model on Training Set"
   ]
  },
  {
   "cell_type": "code",
   "execution_count": 18,
   "metadata": {
    "colab": {
     "base_uri": "https://localhost:8080/"
    },
    "executionInfo": {
     "elapsed": 9,
     "status": "ok",
     "timestamp": 1631013499429,
     "user": {
      "displayName": "Varun Sharma",
      "photoUrl": "https://lh3.googleusercontent.com/a-/AOh14Gg1hxWmmqH4umslUWGbzTlmprKziTUVDl4DHVjZUw=s64",
      "userId": "03897717850476375807"
     },
     "user_tz": -330
    },
    "id": "UGgqmCEX2sMQ",
    "outputId": "bdbedff8-0f4c-4230-8aab-53f844ee484a"
   },
   "outputs": [
    {
     "data": {
      "text/plain": [
       "RandomForestClassifier(criterion='entropy', n_estimators=10, random_state=0)"
      ]
     },
     "execution_count": 18,
     "metadata": {},
     "output_type": "execute_result"
    }
   ],
   "source": [
    "from sklearn.ensemble import RandomForestClassifier\n",
    "classifier = RandomForestClassifier(n_estimators = 10, criterion = 'entropy', random_state = 0)\n",
    "classifier.fit(X_train, y_train)"
   ]
  },
  {
   "cell_type": "markdown",
   "metadata": {
    "id": "XYNXB_wS2sko"
   },
   "source": [
    "## Confusion matrix and Model Accuracy"
   ]
  },
  {
   "cell_type": "code",
   "execution_count": 19,
   "metadata": {
    "colab": {
     "base_uri": "https://localhost:8080/",
     "height": 0
    },
    "executionInfo": {
     "elapsed": 8,
     "status": "ok",
     "timestamp": 1631013499429,
     "user": {
      "displayName": "Varun Sharma",
      "photoUrl": "https://lh3.googleusercontent.com/a-/AOh14Gg1hxWmmqH4umslUWGbzTlmprKziTUVDl4DHVjZUw=s64",
      "userId": "03897717850476375807"
     },
     "user_tz": -330
    },
    "id": "Sai6hXia2tWg",
    "outputId": "9ee5d0ba-56fc-4f86-d302-8573cfbc77fc",
    "scrolled": true
   },
   "outputs": [
    {
     "name": "stdout",
     "output_type": "stream",
     "text": [
      "Random forest classification model Accuracy:  88.00%\n"
     ]
    },
    {
     "data": {
      "text/plain": [
       "<AxesSubplot:>"
      ]
     },
     "execution_count": 19,
     "metadata": {},
     "output_type": "execute_result"
    },
    {
     "data": {
      "image/png": "[encoded data removed]",
      "text/plain": [
       "<Figure size 432x288 with 2 Axes>"
      ]
     },
     "metadata": {
      "needs_background": "light"
     },
     "output_type": "display_data"
    }
   ],
   "source": [
    "from sklearn.metrics import confusion_matrix, accuracy_score\n",
    "y_pred = classifier.predict(X_test)\n",
    "cm = confusion_matrix(y_test, y_pred)\n",
    "score7 = accuracy_score(y_test, y_pred)\n",
    "print('Random forest classification model Accuracy: ','{:.2f}%'.format(100*score7))\n",
    "sns.heatmap(cm, annot=True)"
   ]
  },
  {
   "cell_type": "markdown",
   "metadata": {},
   "source": [
    "## Training XGBoost Model on Training Set"
   ]
  },
  {
   "cell_type": "code",
   "execution_count": 20,
   "metadata": {},
   "outputs": [
    {
     "data": {
      "text/plain": [
       "XGBClassifier(base_score=0.5, booster='gbtree', colsample_bylevel=1,\n",
       "              colsample_bynode=1, colsample_bytree=1, eval_metric='logloss',\n",
       "              gamma=0, gpu_id=-1, importance_type='gain',\n",
       "              interaction_constraints='', learning_rate=0.300000012,\n",
       "              max_delta_step=0, max_depth=6, min_child_weight=1, missing=nan,\n",
       "              monotone_constraints='()', n_estimators=100, n_jobs=8,\n",
       "              num_parallel_tree=1, random_state=0, reg_alpha=0, reg_lambda=1,\n",
       "              scale_pos_weight=1, subsample=1, tree_method='exact',\n",
       "              use_label_encoder=False, validate_parameters=1, verbosity=None)"
      ]
     },
     "execution_count": 20,
     "metadata": {},
     "output_type": "execute_result"
    }
   ],
   "source": [
    "from xgboost import XGBClassifier\n",
    "classifier = XGBClassifier(use_label_encoder=False,objective='binary:logistic',eval_metric = 'logloss')\n",
    "classifier.fit(X_train, y_train)"
   ]
  },
  {
   "cell_type": "markdown",
   "metadata": {},
   "source": [
    "## Confusion Matrix and Model Accuracy"
   ]
  },
  {
   "cell_type": "code",
   "execution_count": 21,
   "metadata": {},
   "outputs": [
    {
     "name": "stdout",
     "output_type": "stream",
     "text": [
      "XGBoost model Accuracy:  84.00%\n"
     ]
    },
    {
     "data": {
      "text/plain": [
       "<AxesSubplot:>"
      ]
     },
     "execution_count": 21,
     "metadata": {},
     "output_type": "execute_result"
    },
    {
     "data": {
      "image/png": "[encoded data removed]",
      "text/plain": [
       "<Figure size 432x288 with 2 Axes>"
      ]
     },
     "metadata": {
      "needs_background": "light"
     },
     "output_type": "display_data"
    }
   ],
   "source": [
    "from sklearn.metrics import confusion_matrix, accuracy_score\n",
    "y_pred = classifier.predict(X_test)\n",
    "cm = confusion_matrix(y_test, y_pred)\n",
    "score8 = accuracy_score(y_test, y_pred)\n",
    "print('XGBoost model Accuracy: ','{:.2f}%'.format(100*score8))\n",
    "sns.heatmap(cm, annot=True)"
   ]
  },
  {
   "cell_type": "markdown",
   "metadata": {},
   "source": [
    "## K-Fold-Cross-Validation"
   ]
  },
  {
   "cell_type": "code",
   "execution_count": 22,
   "metadata": {},
   "outputs": [
    {
     "name": "stdout",
     "output_type": "stream",
     "text": [
      "Accuracy: 84.80 %\n",
      "Standard Deviation: 6.08 %\n"
     ]
    }
   ],
   "source": [
    "from sklearn.model_selection import cross_val_score\n",
    "accuracies = cross_val_score(estimator = classifier, X = X_train, y = y_train, cv = 10)\n",
    "print(\"Accuracy: {:.2f} %\".format(accuracies.mean()*100))\n",
    "print(\"Standard Deviation: {:.2f} %\".format(accuracies.std()*100))"
   ]
  },
  {
   "cell_type": "markdown",
   "metadata": {
    "id": "zgs2i6Xg9G-x"
   },
   "source": [
    "## Final Results"
   ]
  },
  {
   "cell_type": "code",
   "execution_count": 23,
   "metadata": {
    "colab": {
     "base_uri": "https://localhost:8080/"
    },
    "executionInfo": {
     "elapsed": 7,
     "status": "ok",
     "timestamp": 1631013499429,
     "user": {
      "displayName": "Varun Sharma",
      "photoUrl": "https://lh3.googleusercontent.com/a-/AOh14Gg1hxWmmqH4umslUWGbzTlmprKziTUVDl4DHVjZUw=s64",
      "userId": "03897717850476375807"
     },
     "user_tz": -330
    },
    "id": "K4r8XVnR9Lr6",
    "outputId": "9a82a53e-e95a-466b-ba97-9d6b6438e75a"
   },
   "outputs": [
    {
     "name": "stdout",
     "output_type": "stream",
     "text": [
      "Naive Bayes model Accuracy:  66.67% \n",
      "\n",
      "K Nearest neighbors model Accuracy:  73.33% \n",
      "\n",
      "Logistic Regression model Accuracy:  77.33% \n",
      "\n",
      "Support Vector machine model Accuracy:  78.67% \n",
      "\n",
      "Kernel SVM model Accuracy:  81.33% \n",
      "\n",
      "Decision tree model Accuracy:  81.33% \n",
      "\n",
      "XGBoost model Accuracy:  84.00% \n",
      "\n",
      "Random forest classification model Accuracy:  88.00% \n",
      "\n"
     ]
    }
   ],
   "source": [
    "print('Naive Bayes model Accuracy: ','{:.2f}%'.format(100*score1),'\\n')\n",
    "print('K Nearest neighbors model Accuracy: ','{:.2f}%'.format(100*score2),'\\n')\n",
    "print('Logistic Regression model Accuracy: ','{:.2f}%'.format(100*score3),'\\n')\n",
    "print('Support Vector machine model Accuracy: ','{:.2f}%'.format(100*score4),'\\n')\n",
    "print('Kernel SVM model Accuracy: ','{:.2f}%'.format(100*score5),'\\n')\n",
    "print('Decision tree model Accuracy: ','{:.2f}%'.format(100*score6),'\\n')\n",
    "print('XGBoost model Accuracy: ','{:.2f}%'.format(100*score8),'\\n')\n",
    "print('Random forest classification model Accuracy: ','{:.2f}%'.format(100*score7),'\\n')\n"
   ]
  }
 ],
 "metadata": {
  "colab": {
   "authorship_tag": "ABX9TyMaE9jqmR5D1xVvCZ281zsd",
   "collapsed_sections": [
    "FVcgq6HwwLQm",
    "M4O2fe7zwqSG",
    "O9D7wHkhyZkv",
    "C-_yzxnSzjBW",
    "F0V7wLpF4MAx",
    "_UtPDG804P0R",
    "acjThhF95d3a",
    "4T9M1VTp5f9p",
    "DaLUBmvfz6eP",
    "j5sf8IG10V6g",
    "HOGKL6uc17r4",
    "h9Fn-Jnl2Xk4",
    "DQKvX-WC2d_w",
    "WhyZR3uq2gKI",
    "Xq8e82xz2jOo",
    "D902ynoi2mtg",
    "UeKns0452qyJ",
    "XYNXB_wS2sko",
    "zgs2i6Xg9G-x"
   ],
   "name": "Heart-Failure-Prediction.ipynb",
   "provenance": []
  },
  "kernelspec": {
   "display_name": "Python 3",
   "language": "python",
   "name": "python3"
  },
  "language_info": {
   "codemirror_mode": {
    "name": "ipython",
    "version": 3
   },
   "file_extension": ".py",
   "mimetype": "text/x-python",
   "name": "python",
   "nbconvert_exporter": "python",
   "pygments_lexer": "ipython3",
   "version": "3.8.5"
  }
 },
 "nbformat": 4,
 "nbformat_minor": 1
}
